{
 "cells": [
  {
   "cell_type": "markdown",
   "metadata": {
    "colab_type": "text",
    "id": "view-in-github"
   },
   "source": [
    "<a href=\"https://colab.research.google.com/github/asafe-eduardo/colab/blob/master/rnn_from_scratch/lstm_gru_with_tensorflow_eduardo_asafe.ipynb\" target=\"_parent\"><img src=\"https://colab.research.google.com/assets/colab-badge.svg\" alt=\"Open In Colab\"/></a>"
   ]
  },
  {
   "cell_type": "markdown",
   "metadata": {
    "colab_type": "text",
    "id": "fZUPFV0wgB6p"
   },
   "source": [
    "# OBJECTIVES #"
   ]
  },
  {
   "cell_type": "markdown",
   "metadata": {
    "colab_type": "text",
    "id": "E9tu0uZEgB6r"
   },
   "source": [
    "Para as datas devem predizer qual são os montantes para os próximos pontos de entrada na validação e teste. E verificar em uma outra predição os pontos de melhores clientes. Lembrando que não quero a melhor predição e sim como irá ficar a arquitetura e as explicações."
   ]
  },
  {
   "cell_type": "markdown",
   "metadata": {
    "colab_type": "text",
    "id": "nB2RCFgNgB6t"
   },
   "source": [
    "### GENERAL INFO\n",
    "\n",
    "`Account No.` - representa o número da conta envolvida na transação.\n",
    "\n",
    "`Date` - data da transação.\n",
    "\n",
    "`Transaction Details` - narrações de transação em extratos bancários.\n",
    "\n",
    "`Cheque No.` - indica o número do cheque.\n",
    "\n",
    "`Value Date` - Data de conclusão da transação.\n",
    "\n",
    "`Withdrawal Amount` - Indica o montante retirado.\n",
    "\n",
    "`Deposit Amount` - Indica o valor depositado.\n",
    "\n",
    "`Balance Amount` - saldo atual da conta.\n",
    "\n"
   ]
  },
  {
   "cell_type": "markdown",
   "metadata": {
    "colab_type": "text",
    "id": "Vb94M2tHXpI9"
   },
   "source": [
    "### IMPORTS"
   ]
  },
  {
   "cell_type": "code",
   "execution_count": 87,
   "metadata": {
    "colab": {},
    "colab_type": "code",
    "id": "BVMZZqQiSTxW"
   },
   "outputs": [],
   "source": [
    "import numpy as np\n",
    "import pandas as pd\n",
    "import math\n",
    "from sklearn.preprocessing import OrdinalEncoder\n",
    "from sklearn.preprocessing import MinMaxScaler\n",
    "from sklearn.model_selection import train_test_split\n",
    "import datetime\n",
    "import matplotlib.pyplot as plt\n",
    "import tensorflow as tf\n",
    "from tensorflow.keras.utils import to_categorical"
   ]
  },
  {
   "cell_type": "code",
   "execution_count": 88,
   "metadata": {
    "colab": {
     "base_uri": "https://localhost:8080/",
     "height": 34
    },
    "colab_type": "code",
    "id": "braDqTlNgB64",
    "outputId": "7c9087ef-3935-44c2-f920-e310339e8e7a"
   },
   "outputs": [
    {
     "name": "stdout",
     "output_type": "stream",
     "text": [
      "1.14.0\n"
     ]
    }
   ],
   "source": [
    "tf_version = tf.__version__\n",
    "print(tf_version) ## 1.14\n",
    "\n",
    "tf.reset_default_graph() ## reset graph"
   ]
  },
  {
   "cell_type": "markdown",
   "metadata": {
    "colab_type": "text",
    "id": "aFW2p4LqgB7A"
   },
   "source": [
    "### LOAD DATA ###"
   ]
  },
  {
   "cell_type": "code",
   "execution_count": 89,
   "metadata": {
    "colab": {},
    "colab_type": "code",
    "id": "M7oKzjKIgB7B"
   },
   "outputs": [],
   "source": [
    "dataframe = pd.read_excel(\"./bank.xlsx\", Header=0, parser_dates=True)"
   ]
  },
  {
   "cell_type": "code",
   "execution_count": 90,
   "metadata": {
    "colab": {
     "base_uri": "https://localhost:8080/",
     "height": 306
    },
    "colab_type": "code",
    "id": "MDGhOuuQgB7F",
    "outputId": "1017ee19-a45a-4bcd-e2a5-45893e39a46e"
   },
   "outputs": [
    {
     "data": {
      "text/html": [
       "<div>\n",
       "<style scoped>\n",
       "    .dataframe tbody tr th:only-of-type {\n",
       "        vertical-align: middle;\n",
       "    }\n",
       "\n",
       "    .dataframe tbody tr th {\n",
       "        vertical-align: top;\n",
       "    }\n",
       "\n",
       "    .dataframe thead th {\n",
       "        text-align: right;\n",
       "    }\n",
       "</style>\n",
       "<table border=\"1\" class=\"dataframe\">\n",
       "  <thead>\n",
       "    <tr style=\"text-align: right;\">\n",
       "      <th></th>\n",
       "      <th>Account No</th>\n",
       "      <th>DATE</th>\n",
       "      <th>TRANSACTION DETAILS</th>\n",
       "      <th>CHQ.NO.</th>\n",
       "      <th>VALUE DATE</th>\n",
       "      <th>WITHDRAWAL AMT</th>\n",
       "      <th>DEPOSIT AMT</th>\n",
       "      <th>BALANCE AMT</th>\n",
       "      <th>.</th>\n",
       "    </tr>\n",
       "  </thead>\n",
       "  <tbody>\n",
       "    <tr>\n",
       "      <th>0</th>\n",
       "      <td>409000611074'</td>\n",
       "      <td>2017-06-29</td>\n",
       "      <td>TRF FROM  Indiaforensic SERVICES</td>\n",
       "      <td>NaN</td>\n",
       "      <td>2017-06-29</td>\n",
       "      <td>NaN</td>\n",
       "      <td>1000000.0</td>\n",
       "      <td>1000000.0</td>\n",
       "      <td>.</td>\n",
       "    </tr>\n",
       "    <tr>\n",
       "      <th>1</th>\n",
       "      <td>409000611074'</td>\n",
       "      <td>2017-07-05</td>\n",
       "      <td>TRF FROM  Indiaforensic SERVICES</td>\n",
       "      <td>NaN</td>\n",
       "      <td>2017-07-05</td>\n",
       "      <td>NaN</td>\n",
       "      <td>1000000.0</td>\n",
       "      <td>2000000.0</td>\n",
       "      <td>.</td>\n",
       "    </tr>\n",
       "    <tr>\n",
       "      <th>2</th>\n",
       "      <td>409000611074'</td>\n",
       "      <td>2017-07-18</td>\n",
       "      <td>FDRL/INTERNAL FUND TRANSFE</td>\n",
       "      <td>NaN</td>\n",
       "      <td>2017-07-18</td>\n",
       "      <td>NaN</td>\n",
       "      <td>500000.0</td>\n",
       "      <td>2500000.0</td>\n",
       "      <td>.</td>\n",
       "    </tr>\n",
       "    <tr>\n",
       "      <th>3</th>\n",
       "      <td>409000611074'</td>\n",
       "      <td>2017-08-01</td>\n",
       "      <td>TRF FRM  Indiaforensic SERVICES</td>\n",
       "      <td>NaN</td>\n",
       "      <td>2017-08-01</td>\n",
       "      <td>NaN</td>\n",
       "      <td>3000000.0</td>\n",
       "      <td>5500000.0</td>\n",
       "      <td>.</td>\n",
       "    </tr>\n",
       "    <tr>\n",
       "      <th>4</th>\n",
       "      <td>409000611074'</td>\n",
       "      <td>2017-08-16</td>\n",
       "      <td>FDRL/INTERNAL FUND TRANSFE</td>\n",
       "      <td>NaN</td>\n",
       "      <td>2017-08-16</td>\n",
       "      <td>NaN</td>\n",
       "      <td>500000.0</td>\n",
       "      <td>6000000.0</td>\n",
       "      <td>.</td>\n",
       "    </tr>\n",
       "  </tbody>\n",
       "</table>\n",
       "</div>"
      ],
      "text/plain": [
       "      Account No       DATE               TRANSACTION DETAILS  CHQ.NO.  \\\n",
       "0  409000611074' 2017-06-29  TRF FROM  Indiaforensic SERVICES      NaN   \n",
       "1  409000611074' 2017-07-05  TRF FROM  Indiaforensic SERVICES      NaN   \n",
       "2  409000611074' 2017-07-18        FDRL/INTERNAL FUND TRANSFE      NaN   \n",
       "3  409000611074' 2017-08-01   TRF FRM  Indiaforensic SERVICES      NaN   \n",
       "4  409000611074' 2017-08-16        FDRL/INTERNAL FUND TRANSFE      NaN   \n",
       "\n",
       "  VALUE DATE  WITHDRAWAL AMT  DEPOSIT AMT  BALANCE AMT  .  \n",
       "0 2017-06-29             NaN    1000000.0    1000000.0  .  \n",
       "1 2017-07-05             NaN    1000000.0    2000000.0  .  \n",
       "2 2017-07-18             NaN     500000.0    2500000.0  .  \n",
       "3 2017-08-01             NaN    3000000.0    5500000.0  .  \n",
       "4 2017-08-16             NaN     500000.0    6000000.0  .  "
      ]
     },
     "execution_count": 90,
     "metadata": {},
     "output_type": "execute_result"
    }
   ],
   "source": [
    "dataframe.head() ## a taste of dataframe"
   ]
  },
  {
   "cell_type": "code",
   "execution_count": 91,
   "metadata": {
    "colab": {
     "base_uri": "https://localhost:8080/",
     "height": 255
    },
    "colab_type": "code",
    "id": "mFifn6FJgB7K",
    "outputId": "726eb2f4-25a8-412a-8eb0-48ea442ad455",
    "scrolled": true
   },
   "outputs": [
    {
     "name": "stdout",
     "output_type": "stream",
     "text": [
      "<class 'pandas.core.frame.DataFrame'>\n",
      "RangeIndex: 116201 entries, 0 to 116200\n",
      "Data columns (total 9 columns):\n",
      "Account No             116201 non-null object\n",
      "DATE                   116201 non-null datetime64[ns]\n",
      "TRANSACTION DETAILS    113702 non-null object\n",
      "CHQ.NO.                905 non-null float64\n",
      "VALUE DATE             116201 non-null datetime64[ns]\n",
      "WITHDRAWAL AMT         53549 non-null float64\n",
      "DEPOSIT AMT            62652 non-null float64\n",
      "BALANCE AMT            116201 non-null float64\n",
      ".                      116201 non-null object\n",
      "dtypes: datetime64[ns](2), float64(4), object(3)\n",
      "memory usage: 8.0+ MB\n"
     ]
    }
   ],
   "source": [
    "dataframe.info() ##print infos of dataframe"
   ]
  },
  {
   "cell_type": "markdown",
   "metadata": {
    "colab_type": "text",
    "id": "RIj1b-BQgB7O"
   },
   "source": [
    "Exist 9 columns.\n",
    "\n",
    "total de rows = 116201\n",
    "\n",
    "the columns `TRANSACTION DETAILS, CHQ.NO., WITHDRAWAL AMT, DEPOSIT AMT` have less rows that dataframe has so we need did do the following strategy:\n",
    "    - cut off the columns with few values\n",
    "    - fill the empty columns values with some value\n",
    "    \n",
    "but before this let's taste a flavor of values of the dataframe"
   ]
  },
  {
   "cell_type": "code",
   "execution_count": 92,
   "metadata": {
    "colab": {
     "base_uri": "https://localhost:8080/",
     "height": 1000
    },
    "colab_type": "code",
    "id": "LSUu7Xc9gB7P",
    "outputId": "8260bf6b-fe03-4426-c145-45f68f9eb27b",
    "scrolled": true
   },
   "outputs": [
    {
     "name": "stdout",
     "output_type": "stream",
     "text": [
      "========================   PRINT VALUES ========================================\n",
      "column: Account No, \n",
      "values: [u\"409000611074'\" u\"409000493201'\" u\"409000425051'\" u\"409000405747'\"\n",
      " u\"409000438611'\" u\"409000493210'\" u\"409000438620'\" u\"1196711'\"\n",
      " u\"1196428'\" u\"409000362497'\"]\n",
      "============================= COLUMN INFO ======================================\n",
      "unique values in column: Account No = 10\n",
      "\n",
      "\n",
      "\n",
      "========================   PRINT VALUES ========================================\n",
      "column: DATE, \n",
      "values: ['2017-06-29T00:00:00.000000000' '2017-07-05T00:00:00.000000000'\n",
      " '2017-07-18T00:00:00.000000000' '2017-08-01T00:00:00.000000000'\n",
      " '2017-08-16T00:00:00.000000000' '2017-09-06T00:00:00.000000000'\n",
      " '2017-09-25T00:00:00.000000000' '2017-09-26T00:00:00.000000000'\n",
      " '2017-09-27T00:00:00.000000000' '2017-09-28T00:00:00.000000000'\n",
      " '2017-10-03T00:00:00.000000000' '2017-10-04T00:00:00.000000000'\n",
      " '2017-10-05T00:00:00.000000000' '2017-10-06T00:00:00.000000000'\n",
      " '2017-10-16T00:00:00.000000000' '2017-10-17T00:00:00.000000000'\n",
      " '2017-10-18T00:00:00.000000000' '2017-10-21T00:00:00.000000000'\n",
      " '2017-10-23T00:00:00.000000000' '2017-10-24T00:00:00.000000000']\n",
      "============================= COLUMN INFO ======================================\n",
      "unique values in column: DATE = 1294\n",
      "\n",
      "\n",
      "\n",
      "========================   PRINT VALUES ========================================\n",
      "column: TRANSACTION DETAILS, \n",
      "values: [u'TRF FROM  Indiaforensic SERVICES' u'FDRL/INTERNAL FUND TRANSFE'\n",
      " u'TRF FRM  Indiaforensic SERVICES' u'INDO GIBL Indiaforensic STL01071'\n",
      " u'INDO GIBL Indiaforensic STL02071' u'INDO GIBL Indiaforensic STL03071'\n",
      " u'INDO GIBL Indiaforensic STL04071' u'INDO GIBL Indiaforensic STL05071'\n",
      " u'INDO GIBL Indiaforensic STL06071' u'INDO GIBL Indiaforensic STL07071'\n",
      " u'INDO GIBL Indiaforensic STL10071' u'INDO GIBL Indiaforensic STL11071'\n",
      " u'INDO GIBL Indiaforensic STL12071' u'INDO GIBL Indiaforensic STL13071'\n",
      " u'INDO GIBL Indiaforensic STL14071' u'INDO GIBL Indiaforensic STL15071'\n",
      " u'INDO GIBL Indiaforensic STL16071' u'INDO GIBL Indiaforensic STL17071'\n",
      " u'INDO GIBL Indiaforensic STL18071' u'INDO GIBL Indiaforensic STL19071']\n",
      "============================= COLUMN INFO ======================================\n",
      "unique values in column: TRANSACTION DETAILS = 44807\n",
      "\n",
      "\n",
      "\n",
      "========================   PRINT VALUES ========================================\n",
      "column: CHQ.NO., \n",
      "values: [        nan 1.00000e+00 2.00000e+00 5.00000e+00 6.00000e+00 4.00000e+00\n",
      " 3.00000e+00 9.00000e+00 7.00000e+00 8.00000e+00 1.00000e+01 8.73777e+05\n",
      " 8.73776e+05 8.73779e+05 8.73780e+05 8.73781e+05 8.73778e+05 8.73733e+05\n",
      " 8.73728e+05 8.73727e+05]\n",
      "============================= COLUMN INFO ======================================\n",
      "unique values in column: CHQ.NO. = 895\n",
      "\n",
      "\n",
      "\n",
      "========================   PRINT VALUES ========================================\n",
      "column: VALUE DATE, \n",
      "values: ['2017-06-29T00:00:00.000000000' '2017-07-05T00:00:00.000000000'\n",
      " '2017-07-18T00:00:00.000000000' '2017-08-01T00:00:00.000000000'\n",
      " '2017-08-16T00:00:00.000000000' '2017-09-06T00:00:00.000000000'\n",
      " '2017-09-25T00:00:00.000000000' '2017-09-26T00:00:00.000000000'\n",
      " '2017-09-27T00:00:00.000000000' '2017-09-28T00:00:00.000000000'\n",
      " '2017-10-03T00:00:00.000000000' '2017-10-04T00:00:00.000000000'\n",
      " '2017-10-05T00:00:00.000000000' '2017-10-06T00:00:00.000000000'\n",
      " '2017-10-16T00:00:00.000000000' '2017-10-17T00:00:00.000000000'\n",
      " '2017-10-18T00:00:00.000000000' '2017-10-21T00:00:00.000000000'\n",
      " '2017-10-23T00:00:00.000000000' '2017-10-24T00:00:00.000000000']\n",
      "============================= COLUMN INFO ======================================\n",
      "unique values in column: VALUE DATE = 1294\n",
      "\n",
      "\n",
      "\n",
      "========================   PRINT VALUES ========================================\n",
      "column: WITHDRAWAL AMT, \n",
      "values: [    nan 133900.  18000.   5000. 195800.  81600.  41800.  98500. 143800.\n",
      " 331650. 129000. 230013. 367900. 108000.  64800. 141000.  61750.  67920.\n",
      "  78100.  35650.]\n",
      "============================= COLUMN INFO ======================================\n",
      "unique values in column: WITHDRAWAL AMT = 20882\n",
      "\n",
      "\n",
      "\n",
      "========================   PRINT VALUES ========================================\n",
      "column: DEPOSIT AMT, \n",
      "values: [1.000000e+06 5.000000e+05 3.000000e+06          nan 1.320000e+03\n",
      " 1.555000e+05 2.027990e+05 2.000000e+05 3.000000e+05 4.000000e+05\n",
      " 9.000000e-01 6.700000e+04 1.170000e+05 1.500000e+05 1.000000e+05\n",
      " 5.000000e+04 6.654900e+02 4.721693e+04 7.500000e+05 1.671630e+03]\n",
      "============================= COLUMN INFO ======================================\n",
      "unique values in column: DEPOSIT AMT = 20146\n",
      "\n",
      "\n",
      "\n",
      "========================   PRINT VALUES ========================================\n",
      "column: BALANCE AMT, \n",
      "values: [1000000. 2000000. 2500000. 5500000. 6000000. 6500000. 7000000. 7500000.\n",
      " 8000000. 8500000. 8366100. 8348100. 8343100. 8147300. 8065700. 8023900.\n",
      " 7925400. 7781600. 7449950. 7320950.]\n",
      "============================= COLUMN INFO ======================================\n",
      "unique values in column: BALANCE AMT = 115171\n",
      "\n",
      "\n",
      "\n",
      "========================   PRINT VALUES ========================================\n",
      "column: ., \n",
      "values: [u'.']\n",
      "============================= COLUMN INFO ======================================\n",
      "unique values in column: . = 1\n",
      "\n",
      "\n",
      "\n"
     ]
    }
   ],
   "source": [
    "for column in dataframe.columns:\n",
    "    print('========================   PRINT VALUES ========================================')\n",
    "    print('column: {0}, \\nvalues: {1}'.format(column, dataframe[column].unique()[0:20]))\n",
    "    print('============================= COLUMN INFO ======================================')\n",
    "    print('unique values in column: {0} = {1}'.format(column, len(dataframe[column].unique())))\n",
    "    print('\\n\\n')"
   ]
  },
  {
   "cell_type": "markdown",
   "metadata": {
    "colab_type": "text",
    "id": "rSdvbY6pgB7U"
   },
   "source": [
    "what we discovered from values of the dataframe?\n",
    "    - `Account No` have just 10 differents values the means the dataframe has just 10 account\n",
    "    - `TRANSACTION DETAILS` have more of 40.000 values that means very diferents description to transactions\n",
    "    - for our luck all dates have values \\o/ \n",
    "    \n",
    "we discovered a strange column `.` that has a unique value '.'"
   ]
  },
  {
   "cell_type": "markdown",
   "metadata": {
    "colab_type": "text",
    "id": "v3lwvxFnfE7i"
   },
   "source": [
    "### PREPROCESSING ###"
   ]
  },
  {
   "cell_type": "markdown",
   "metadata": {
    "colab_type": "text",
    "id": "EyqG50N_gB7X"
   },
   "source": [
    "now we start preprocessing our dataframe, in this process we will drop and fill values that is empty to some value"
   ]
  },
  {
   "cell_type": "code",
   "execution_count": 93,
   "metadata": {
    "colab": {},
    "colab_type": "code",
    "id": "HjKcMnc6gB7Z"
   },
   "outputs": [],
   "source": [
    "dataframe.drop(columns=['TRANSACTION DETAILS', 'CHQ.NO.', '.'], inplace=True); ##drop columns that we not will use\n",
    "for column in dataframe.columns:\n",
    "    if(dataframe[column].isnull().any()):\n",
    "        dataframe[column].fillna(value=dataframe[column].median(), inplace=True) ## filling our nan values with median"
   ]
  },
  {
   "cell_type": "code",
   "execution_count": 94,
   "metadata": {
    "colab": {
     "base_uri": "https://localhost:8080/",
     "height": 204
    },
    "colab_type": "code",
    "id": "wR3jJLKagB7h",
    "outputId": "a0396efd-8b47-4970-fc60-cc6c254d858c"
   },
   "outputs": [
    {
     "name": "stdout",
     "output_type": "stream",
     "text": [
      "<class 'pandas.core.frame.DataFrame'>\n",
      "RangeIndex: 116201 entries, 0 to 116200\n",
      "Data columns (total 6 columns):\n",
      "Account No        116201 non-null object\n",
      "DATE              116201 non-null datetime64[ns]\n",
      "VALUE DATE        116201 non-null datetime64[ns]\n",
      "WITHDRAWAL AMT    116201 non-null float64\n",
      "DEPOSIT AMT       116201 non-null float64\n",
      "BALANCE AMT       116201 non-null float64\n",
      "dtypes: datetime64[ns](2), float64(3), object(1)\n",
      "memory usage: 5.3+ MB\n"
     ]
    }
   ],
   "source": [
    "dataframe.info() ### printing now our values processed"
   ]
  },
  {
   "cell_type": "markdown",
   "metadata": {
    "colab_type": "text",
    "id": "UP6WtKY_gB7m"
   },
   "source": [
    "now how you can see our dataframe has all rows filled.\n",
    "we removed the columns that have fews values and not means nothing for our objectives.\n",
    "we filled the empty values with median that is the 'the median value of a range', we keep the `Account No` column because we need predict what client is a good client.\n",
    "\n",
    "Our Preprocessing its not finished yet, we need now transform the `Account No` and do a couple of things. "
   ]
  },
  {
   "cell_type": "code",
   "execution_count": 95,
   "metadata": {
    "colab": {},
    "colab_type": "code",
    "id": "hpmkP1gngB7n"
   },
   "outputs": [],
   "source": [
    "enc = OrdinalEncoder()\n",
    "\n",
    "def categorical_to_ordinal(categorical_values, serie): ## method to convert categorical string to categorical integer\n",
    "    enc.fit(categorical_values)\n",
    "    serie_reshape = np.reshape(serie.to_numpy(), (-1, 1))\n",
    "    return enc.transform(serie_reshape).flatten()"
   ]
  },
  {
   "cell_type": "code",
   "execution_count": 96,
   "metadata": {
    "colab": {},
    "colab_type": "code",
    "id": "c6HBL7PdgB7r"
   },
   "outputs": [],
   "source": [
    "accounts_label = dataframe['Account No'].unique()\n",
    "accounts = dataframe['Account No']\n",
    "#accounts_ordinal = categoricalToOrdinal([[u\"409000611074'\"],[u\"409000493201'\"], [u\"409000425051'\"],[u\"409000405747'\"], [u\"409000438611'\"], [u\"409000493210'\"],[u\"409000438620'\"], [u\"1196711'\"], [u\"1196428'\"], [u\"409000362497'\"]], accounts);\n",
    "accounts_ordinal = categorical_to_ordinal(accounts_label.reshape(-1,1), accounts);\n",
    "dataframe['client_class'] = pd.Series(accounts_ordinal)"
   ]
  },
  {
   "cell_type": "code",
   "execution_count": 97,
   "metadata": {
    "colab": {},
    "colab_type": "code",
    "id": "GflAM1xFgB7u"
   },
   "outputs": [],
   "source": [
    "epoch = datetime.datetime.utcfromtimestamp(0)\n",
    "\n",
    "def unix_time_millis(dt): ## method to convert timestamp in milliseconds\n",
    "    return (dt - epoch).total_seconds() * 1000.0"
   ]
  },
  {
   "cell_type": "code",
   "execution_count": 98,
   "metadata": {
    "colab": {},
    "colab_type": "code",
    "id": "3v1YhwYMgB7x"
   },
   "outputs": [],
   "source": [
    "dataframe['DATE'] = dataframe['DATE'].apply(unix_time_millis)\n",
    "dataframe['VALUE DATE'] = dataframe['VALUE DATE'].apply(unix_time_millis)"
   ]
  },
  {
   "cell_type": "code",
   "execution_count": 99,
   "metadata": {
    "colab": {},
    "colab_type": "code",
    "id": "YAj4Z-0BgB70"
   },
   "outputs": [],
   "source": [
    "def min_max_scaler(data): ## method to scaler our values\n",
    "    scaler = MinMaxScaler()\n",
    "    scaler.fit(data.to_numpy().reshape(-1, 1))\n",
    "    transformed_data = scaler.transform(data.to_numpy().reshape(-1, 1))\n",
    "    return transformed_data"
   ]
  },
  {
   "cell_type": "code",
   "execution_count": 100,
   "metadata": {
    "colab": {},
    "colab_type": "code",
    "id": "9oByOZy6gB74",
    "scrolled": true
   },
   "outputs": [],
   "source": [
    "dataframe['DATE'] = min_max_scaler(dataframe['DATE'])\n",
    "dataframe['VALUE DATE'] = min_max_scaler(dataframe['VALUE DATE'])\n",
    "dataframe['WITHDRAWAL AMT'] = min_max_scaler(dataframe['WITHDRAWAL AMT'])\n",
    "dataframe['WITHDRAWAL AMT'] = min_max_scaler(dataframe['WITHDRAWAL AMT'])\n",
    "dataframe['DEPOSIT AMT'] = min_max_scaler(dataframe['DEPOSIT AMT'])\n",
    "dataframe['BALANCE AMT'] = min_max_scaler(dataframe['BALANCE AMT']); ## OMIT"
   ]
  },
  {
   "cell_type": "markdown",
   "metadata": {
    "colab_type": "text",
    "id": "O-Si-6UTgB77"
   },
   "source": [
    "we create 3 functions to transform our data:\n",
    "    - `categorical_to_ordinal` we need transform the string value of `Account No` to a categorical numeric value and this method give this power to us.\n",
    "    - `unix_time_millis`  a method to convert our timestamp to milliseconds(use just if our NN don't recognize timestamp value).\n",
    "    - `min_max_scaler` different range of values maybe bias our model (grandient not converge to global minimum), also raise model perfomance.\n",
    "    \n",
    "now lets see how our dataframe stayed"
   ]
  },
  {
   "cell_type": "code",
   "execution_count": 101,
   "metadata": {
    "colab": {},
    "colab_type": "code",
    "id": "_BnT4csTgB7_"
   },
   "outputs": [],
   "source": [
    "dataframe.drop(columns=['Account No'], inplace=True); ##drop unnecessary column"
   ]
  },
  {
   "cell_type": "code",
   "execution_count": 102,
   "metadata": {
    "colab": {
     "base_uri": "https://localhost:8080/",
     "height": 204
    },
    "colab_type": "code",
    "id": "X2Nv21NjgB8K",
    "outputId": "3f626209-3ff6-47d4-b70a-6f2fdea51105",
    "scrolled": false
   },
   "outputs": [
    {
     "data": {
      "text/html": [
       "<div>\n",
       "<style scoped>\n",
       "    .dataframe tbody tr th:only-of-type {\n",
       "        vertical-align: middle;\n",
       "    }\n",
       "\n",
       "    .dataframe tbody tr th {\n",
       "        vertical-align: top;\n",
       "    }\n",
       "\n",
       "    .dataframe thead th {\n",
       "        text-align: right;\n",
       "    }\n",
       "</style>\n",
       "<table border=\"1\" class=\"dataframe\">\n",
       "  <thead>\n",
       "    <tr style=\"text-align: right;\">\n",
       "      <th></th>\n",
       "      <th>DATE</th>\n",
       "      <th>VALUE DATE</th>\n",
       "      <th>WITHDRAWAL AMT</th>\n",
       "      <th>DEPOSIT AMT</th>\n",
       "      <th>BALANCE AMT</th>\n",
       "      <th>client_class</th>\n",
       "    </tr>\n",
       "  </thead>\n",
       "  <tbody>\n",
       "    <tr>\n",
       "      <th>0</th>\n",
       "      <td>0.597113</td>\n",
       "      <td>0.597113</td>\n",
       "      <td>0.000102</td>\n",
       "      <td>0.001836</td>\n",
       "      <td>0.996348</td>\n",
       "      <td>9.0</td>\n",
       "    </tr>\n",
       "    <tr>\n",
       "      <th>1</th>\n",
       "      <td>0.601050</td>\n",
       "      <td>0.601050</td>\n",
       "      <td>0.000102</td>\n",
       "      <td>0.001836</td>\n",
       "      <td>0.996835</td>\n",
       "      <td>9.0</td>\n",
       "    </tr>\n",
       "    <tr>\n",
       "      <th>2</th>\n",
       "      <td>0.609580</td>\n",
       "      <td>0.609580</td>\n",
       "      <td>0.000102</td>\n",
       "      <td>0.000918</td>\n",
       "      <td>0.997078</td>\n",
       "      <td>9.0</td>\n",
       "    </tr>\n",
       "    <tr>\n",
       "      <th>3</th>\n",
       "      <td>0.618766</td>\n",
       "      <td>0.618766</td>\n",
       "      <td>0.000102</td>\n",
       "      <td>0.005507</td>\n",
       "      <td>0.998539</td>\n",
       "      <td>9.0</td>\n",
       "    </tr>\n",
       "    <tr>\n",
       "      <th>4</th>\n",
       "      <td>0.628609</td>\n",
       "      <td>0.628609</td>\n",
       "      <td>0.000102</td>\n",
       "      <td>0.000918</td>\n",
       "      <td>0.998783</td>\n",
       "      <td>9.0</td>\n",
       "    </tr>\n",
       "  </tbody>\n",
       "</table>\n",
       "</div>"
      ],
      "text/plain": [
       "       DATE  VALUE DATE  WITHDRAWAL AMT  DEPOSIT AMT  BALANCE AMT  \\\n",
       "0  0.597113    0.597113        0.000102     0.001836     0.996348   \n",
       "1  0.601050    0.601050        0.000102     0.001836     0.996835   \n",
       "2  0.609580    0.609580        0.000102     0.000918     0.997078   \n",
       "3  0.618766    0.618766        0.000102     0.005507     0.998539   \n",
       "4  0.628609    0.628609        0.000102     0.000918     0.998783   \n",
       "\n",
       "   client_class  \n",
       "0           9.0  \n",
       "1           9.0  \n",
       "2           9.0  \n",
       "3           9.0  \n",
       "4           9.0  "
      ]
     },
     "execution_count": 102,
     "metadata": {},
     "output_type": "execute_result"
    }
   ],
   "source": [
    "dataframe.head()"
   ]
  },
  {
   "cell_type": "markdown",
   "metadata": {
    "colab_type": "text",
    "id": "MQQCVGJugB8U"
   },
   "source": [
    "now is time to split our data \\o/\n",
    "our label will be `client_class`"
   ]
  },
  {
   "cell_type": "code",
   "execution_count": 103,
   "metadata": {
    "colab": {},
    "colab_type": "code",
    "id": "xLDUhz9DgB8V"
   },
   "outputs": [],
   "source": [
    "y = dataframe.pop('WITHDRAWAL AMT') ##get client_class\n",
    "X = dataframe"
   ]
  },
  {
   "cell_type": "code",
   "execution_count": 104,
   "metadata": {
    "colab": {},
    "colab_type": "code",
    "id": "xtEVImhggB8Z"
   },
   "outputs": [],
   "source": [
    "X_train, X_test, y_train, y_test = train_test_split(X, y, test_size=0.2, random_state=42) ## get test data\n",
    "X_train, X_val, y_train, y_val = train_test_split(X_train, y_train, test_size=0.2, random_state=42) ## get val data"
   ]
  },
  {
   "cell_type": "code",
   "execution_count": 105,
   "metadata": {
    "colab": {},
    "colab_type": "code",
    "id": "T1f22K-TgB8c"
   },
   "outputs": [],
   "source": [
    "y_train = y_train.to_numpy()\n",
    "y_val = y_val.to_numpy()\n",
    "y_test = y_test.to_numpy()\n",
    "\n",
    "y_train = y_train.reshape(-1, 1)\n",
    "y_val = y_val.reshape(-1, 1)\n",
    "y_test = y_test.reshape(-1, 1)\n",
    "\n",
    "X_train = X_train.to_numpy().reshape(-1, 5, 1)\n",
    "X_val = X_val.to_numpy().reshape(-1, 5, 1)\n",
    "X_test = X_test.to_numpy().reshape(-1, 5, 1)"
   ]
  },
  {
   "cell_type": "markdown",
   "metadata": {
    "colab_type": "text",
    "id": "tAmvHK97gB8f"
   },
   "source": [
    "preprocessing done! :D"
   ]
  },
  {
   "cell_type": "markdown",
   "metadata": {
    "colab_type": "text",
    "id": "J3hkS12lgB8g"
   },
   "source": [
    "### MODEL ###"
   ]
  },
  {
   "cell_type": "markdown",
   "metadata": {
    "colab_type": "text",
    "id": "bzdc79fugB8h"
   },
   "source": [
    "now with our data finish let's start building our model"
   ]
  },
  {
   "cell_type": "code",
   "execution_count": 106,
   "metadata": {
    "colab": {},
    "colab_type": "code",
    "id": "0_KepSvPgB8i"
   },
   "outputs": [],
   "source": [
    "## initializing our hyperparams\n",
    "n_inputs = 5\n",
    "n_neurons = 200\n",
    "n_outputs = 1\n",
    "n_layers = 2\n",
    "learning_rate = 0.00001\n",
    "batch_size = 128\n",
    "n_epochs = 500\n",
    "train_set_size = X_train.shape[0]\n",
    "test_set_size = X_test.shape[0]\n",
    "\n",
    "input_X = tf.placeholder(tf.float64, [None, n_inputs, 1])\n",
    "input_y = tf.placeholder(tf.float64, [None, n_outputs])"
   ]
  },
  {
   "cell_type": "code",
   "execution_count": 107,
   "metadata": {
    "colab": {},
    "colab_type": "code",
    "id": "zVA5iVztgB8k"
   },
   "outputs": [],
   "source": [
    "index_in_epoch = 0;\n",
    "perm_array = np.arange(X_train.shape[0])\n",
    "np.random.shuffle(perm_array)\n",
    "\n",
    "def get_next_batch(batch_size): ## function to batch our data\n",
    "    global index_in_epoch, X_train, perm_array\n",
    "    start = index_in_epoch\n",
    "    index_in_epoch += batch_size\n",
    "    if index_in_epoch > X_train.shape[0]:\n",
    "        np.random.shuffle(perm_array)\n",
    "        start = 0\n",
    "        index_in_epoch = batch_size\n",
    "    end = index_in_epoch\n",
    "    return X_train[perm_array[start:end]], y_train[perm_array[start:end]]"
   ]
  },
  {
   "cell_type": "code",
   "execution_count": 108,
   "metadata": {
    "colab": {},
    "colab_type": "code",
    "id": "tVjuasWxgB8p"
   },
   "outputs": [],
   "source": [
    "layers = [tf.contrib.rnn.GRUCell(num_units=n_neurons, activation=tf.nn.relu) ## with my tests, ReLU fit better\n",
    "          for layer in range(n_layers)] # 2 layer 200 neurons\n",
    "\n",
    "multi_layer = tf.contrib.rnn.MultiRNNCell(layers)\n",
    "rnn_outputs, states = tf.nn.dynamic_rnn(multi_layer, input_X, dtype=tf.float64)\n",
    "stacked_rnn_outputs = tf.reshape(rnn_outputs, [-1, n_neurons])\n",
    "stacked_outputs = tf.layers.dense(stacked_rnn_outputs, n_outputs)\n",
    "outputs = tf.reshape(stacked_outputs, [-1, n_inputs, n_outputs])\n",
    "outputs = outputs[:, n_inputs-1, :] "
   ]
  },
  {
   "cell_type": "code",
   "execution_count": 109,
   "metadata": {
    "colab": {},
    "colab_type": "code",
    "id": "-x2PZg7HgB8s"
   },
   "outputs": [],
   "source": [
    "loss = tf.reduce_mean(tf.square(outputs - input_y)) # MSE\n",
    "optimizer = tf.train.AdamOptimizer(learning_rate=learning_rate).minimize(loss) # GRADIENT"
   ]
  },
  {
   "cell_type": "code",
   "execution_count": 110,
   "metadata": {
    "colab": {
     "base_uri": "https://localhost:8080/",
     "height": 1000
    },
    "colab_type": "code",
    "id": "zybJVrcPgB8x",
    "outputId": "9af9f5ea-9cdf-4086-b528-0a3ef8585ff1",
    "scrolled": true
   },
   "outputs": [
    {
     "name": "stdout",
     "output_type": "stream",
     "text": [
      "Epoch 1: train loss = 0.0005978058 valid loss = 0.0006384102\n",
      "Epoch 2: train loss = 0.0005832272 valid loss = 0.0006237945\n",
      "Epoch 3: train loss = 0.0005690166 valid loss = 0.0006095469\n",
      "Epoch 4: train loss = 0.0005551139 valid loss = 0.0005956084\n",
      "Epoch 5: train loss = 0.0005416693 valid loss = 0.0005821274\n",
      "Epoch 6: train loss = 0.0005285996 valid loss = 0.0005690203\n",
      "Epoch 7: train loss = 0.0005158067 valid loss = 0.0005561891\n",
      "Epoch 8: train loss = 0.0005034269 valid loss = 0.0005437708\n",
      "Epoch 9: train loss = 0.0004914435 valid loss = 0.0005317482\n",
      "Epoch 10: train loss = 0.0004797989 valid loss = 0.0005200637\n",
      "Epoch 11: train loss = 0.0004685275 valid loss = 0.0005087520\n",
      "Epoch 12: train loss = 0.0004577124 valid loss = 0.0004978970\n",
      "Epoch 13: train loss = 0.0004473393 valid loss = 0.0004874844\n",
      "Epoch 14: train loss = 0.0004373710 valid loss = 0.0004774762\n",
      "Epoch 15: train loss = 0.0004278091 valid loss = 0.0004678739\n",
      "Epoch 16: train loss = 0.0004187158 valid loss = 0.0004587407\n",
      "Epoch 17: train loss = 0.0004099298 valid loss = 0.0004499141\n",
      "Epoch 18: train loss = 0.0004015455 valid loss = 0.0004414892\n",
      "Epoch 19: train loss = 0.0003935355 valid loss = 0.0004334393\n",
      "Epoch 20: train loss = 0.0003858768 valid loss = 0.0004257415\n",
      "Epoch 21: train loss = 0.0003783047 valid loss = 0.0004181299\n",
      "Epoch 22: train loss = 0.0003711418 valid loss = 0.0004109278\n",
      "Epoch 23: train loss = 0.0003644268 valid loss = 0.0004041740\n",
      "Epoch 24: train loss = 0.0003579969 valid loss = 0.0003977052\n",
      "Epoch 25: train loss = 0.0003519997 valid loss = 0.0003916702\n",
      "Epoch 26: train loss = 0.0003463578 valid loss = 0.0003859911\n",
      "Epoch 27: train loss = 0.0003409348 valid loss = 0.0003805305\n",
      "Epoch 28: train loss = 0.0003358681 valid loss = 0.0003754267\n",
      "Epoch 29: train loss = 0.0003311912 valid loss = 0.0003707133\n",
      "Epoch 30: train loss = 0.0003267445 valid loss = 0.0003662300\n",
      "Epoch 31: train loss = 0.0003226085 valid loss = 0.0003620580\n",
      "Epoch 32: train loss = 0.0003187451 valid loss = 0.0003581589\n",
      "Epoch 33: train loss = 0.0003151683 valid loss = 0.0003545469\n",
      "Epoch 34: train loss = 0.0003118021 valid loss = 0.0003511453\n",
      "Epoch 35: train loss = 0.0003086576 valid loss = 0.0003479659\n",
      "Epoch 36: train loss = 0.0003057482 valid loss = 0.0003450225\n",
      "Epoch 37: train loss = 0.0003030951 valid loss = 0.0003423363\n",
      "Epoch 38: train loss = 0.0003006377 valid loss = 0.0003398463\n",
      "Epoch 39: train loss = 0.0002983601 valid loss = 0.0003375359\n",
      "Epoch 40: train loss = 0.0002962393 valid loss = 0.0003353821\n",
      "Epoch 41: train loss = 0.0002942519 valid loss = 0.0003333617\n",
      "Epoch 42: train loss = 0.0002924419 valid loss = 0.0003315198\n",
      "Epoch 43: train loss = 0.0002907816 valid loss = 0.0003298282\n",
      "Epoch 44: train loss = 0.0002893020 valid loss = 0.0003283187\n",
      "Epoch 45: train loss = 0.0002879434 valid loss = 0.0003269306\n",
      "Epoch 46: train loss = 0.0002867186 valid loss = 0.0003256774\n",
      "Epoch 47: train loss = 0.0002856263 valid loss = 0.0003245576\n",
      "Epoch 48: train loss = 0.0002846324 valid loss = 0.0003235369\n",
      "Epoch 49: train loss = 0.0002837510 valid loss = 0.0003226300\n",
      "Epoch 50: train loss = 0.0002829771 valid loss = 0.0003218321\n",
      "Epoch 51: train loss = 0.0002822997 valid loss = 0.0003211319\n",
      "Epoch 52: train loss = 0.0002817061 valid loss = 0.0003205168\n",
      "Epoch 53: train loss = 0.0002811948 valid loss = 0.0003199856\n",
      "Epoch 54: train loss = 0.0002807536 valid loss = 0.0003195261\n",
      "Epoch 55: train loss = 0.0002803521 valid loss = 0.0003191059\n",
      "Epoch 56: train loss = 0.0002799944 valid loss = 0.0003187304\n",
      "Epoch 57: train loss = 0.0002796839 valid loss = 0.0003184034\n",
      "Epoch 58: train loss = 0.0002794196 valid loss = 0.0003181234\n",
      "Epoch 59: train loss = 0.0002791998 valid loss = 0.0003178894\n",
      "Epoch 60: train loss = 0.0002790210 valid loss = 0.0003176987\n",
      "Epoch 61: train loss = 0.0002788708 valid loss = 0.0003175382\n",
      "Epoch 62: train loss = 0.0002787440 valid loss = 0.0003174019\n",
      "Epoch 63: train loss = 0.0002786407 valid loss = 0.0003172912\n",
      "Epoch 64: train loss = 0.0002785562 valid loss = 0.0003172008\n",
      "Epoch 65: train loss = 0.0002784769 valid loss = 0.0003171158\n",
      "Epoch 66: train loss = 0.0002784061 valid loss = 0.0003170406\n",
      "Epoch 67: train loss = 0.0002783396 valid loss = 0.0003169692\n",
      "Epoch 68: train loss = 0.0002782793 valid loss = 0.0003169045\n",
      "Epoch 69: train loss = 0.0002782254 valid loss = 0.0003168472\n",
      "Epoch 70: train loss = 0.0002781781 valid loss = 0.0003167985\n",
      "Epoch 71: train loss = 0.0002781333 valid loss = 0.0003167522\n",
      "Epoch 72: train loss = 0.0002780907 valid loss = 0.0003167083\n",
      "Epoch 73: train loss = 0.0002780485 valid loss = 0.0003166642\n",
      "Epoch 74: train loss = 0.0002780063 valid loss = 0.0003166197\n",
      "Epoch 75: train loss = 0.0002779658 valid loss = 0.0003165774\n",
      "Epoch 76: train loss = 0.0002779250 valid loss = 0.0003165346\n",
      "Epoch 77: train loss = 0.0002778854 valid loss = 0.0003164941\n",
      "Epoch 78: train loss = 0.0002778460 valid loss = 0.0003164553\n",
      "Epoch 79: train loss = 0.0002778068 valid loss = 0.0003164178\n",
      "Epoch 80: train loss = 0.0002777724 valid loss = 0.0003163845\n",
      "Epoch 81: train loss = 0.0002777391 valid loss = 0.0003163493\n",
      "Epoch 82: train loss = 0.0002777067 valid loss = 0.0003163156\n",
      "Epoch 83: train loss = 0.0002776754 valid loss = 0.0003162829\n",
      "Epoch 84: train loss = 0.0002776422 valid loss = 0.0003162497\n",
      "Epoch 85: train loss = 0.0002776126 valid loss = 0.0003162194\n",
      "Epoch 86: train loss = 0.0002775845 valid loss = 0.0003161906\n",
      "Epoch 87: train loss = 0.0002775689 valid loss = 0.0003161692\n",
      "Epoch 88: train loss = 0.0002775559 valid loss = 0.0003161504\n",
      "Epoch 89: train loss = 0.0002775427 valid loss = 0.0003161332\n",
      "Epoch 90: train loss = 0.0002775347 valid loss = 0.0003161208\n",
      "Epoch 91: train loss = 0.0002775238 valid loss = 0.0003161067\n",
      "Epoch 92: train loss = 0.0002775081 valid loss = 0.0003160893\n",
      "Epoch 93: train loss = 0.0002774949 valid loss = 0.0003160735\n",
      "Epoch 94: train loss = 0.0002774786 valid loss = 0.0003160551\n",
      "Epoch 95: train loss = 0.0002774655 valid loss = 0.0003160394\n",
      "Epoch 96: train loss = 0.0002774503 valid loss = 0.0003160225\n",
      "Epoch 97: train loss = 0.0002774222 valid loss = 0.0003159952\n",
      "Epoch 98: train loss = 0.0002773928 valid loss = 0.0003159667\n",
      "Epoch 99: train loss = 0.0002773663 valid loss = 0.0003159406\n",
      "Epoch 100: train loss = 0.0002773409 valid loss = 0.0003159149\n",
      "Epoch 101: train loss = 0.0002773043 valid loss = 0.0003158797\n",
      "Epoch 102: train loss = 0.0002772643 valid loss = 0.0003158417\n",
      "Epoch 103: train loss = 0.0002772218 valid loss = 0.0003158018\n",
      "Epoch 104: train loss = 0.0002771820 valid loss = 0.0003157639\n",
      "Epoch 105: train loss = 0.0002771363 valid loss = 0.0003157212\n",
      "Epoch 106: train loss = 0.0002770901 valid loss = 0.0003156781\n",
      "Epoch 107: train loss = 0.0002770408 valid loss = 0.0003156332\n",
      "Epoch 108: train loss = 0.0002769942 valid loss = 0.0003155908\n",
      "Epoch 109: train loss = 0.0002769561 valid loss = 0.0003155549\n",
      "Epoch 110: train loss = 0.0002769178 valid loss = 0.0003155187\n",
      "Epoch 111: train loss = 0.0002768768 valid loss = 0.0003154804\n",
      "Epoch 112: train loss = 0.0002768374 valid loss = 0.0003154436\n",
      "Epoch 113: train loss = 0.0002767960 valid loss = 0.0003154056\n",
      "Epoch 114: train loss = 0.0002767500 valid loss = 0.0003153645\n",
      "Epoch 115: train loss = 0.0002767044 valid loss = 0.0003153245\n",
      "Epoch 116: train loss = 0.0002766667 valid loss = 0.0003152899\n",
      "Epoch 117: train loss = 0.0002766363 valid loss = 0.0003152610\n",
      "Epoch 118: train loss = 0.0002766041 valid loss = 0.0003152305\n",
      "Epoch 119: train loss = 0.0002765692 valid loss = 0.0003151978\n",
      "Epoch 120: train loss = 0.0002765366 valid loss = 0.0003151673\n",
      "Epoch 121: train loss = 0.0002764977 valid loss = 0.0003151325\n",
      "Epoch 122: train loss = 0.0002764581 valid loss = 0.0003150979\n",
      "Epoch 123: train loss = 0.0002764208 valid loss = 0.0003150663\n",
      "Epoch 124: train loss = 0.0002763852 valid loss = 0.0003150368\n",
      "Epoch 125: train loss = 0.0002763523 valid loss = 0.0003150092\n",
      "Epoch 126: train loss = 0.0002763187 valid loss = 0.0003149822\n",
      "Epoch 127: train loss = 0.0002762897 valid loss = 0.0003149599\n",
      "Epoch 128: train loss = 0.0002762637 valid loss = 0.0003149418\n",
      "Epoch 129: train loss = 0.0002762422 valid loss = 0.0003149285\n",
      "Epoch 130: train loss = 0.0002762260 valid loss = 0.0003149194\n",
      "Epoch 131: train loss = 0.0002762143 valid loss = 0.0003149160\n",
      "Epoch 132: train loss = 0.0002762105 valid loss = 0.0003149218\n"
     ]
    },
    {
     "name": "stdout",
     "output_type": "stream",
     "text": [
      "Epoch 133: train loss = 0.0002762112 valid loss = 0.0003149319\n",
      "Epoch 134: train loss = 0.0002762129 valid loss = 0.0003149417\n",
      "Epoch 135: train loss = 0.0002762221 valid loss = 0.0003149599\n",
      "Epoch 136: train loss = 0.0002762250 valid loss = 0.0003149705\n",
      "Epoch 137: train loss = 0.0002762080 valid loss = 0.0003149599\n",
      "Epoch 138: train loss = 0.0002761958 valid loss = 0.0003149545\n",
      "Epoch 139: train loss = 0.0002761878 valid loss = 0.0003149535\n",
      "Epoch 140: train loss = 0.0002761743 valid loss = 0.0003149457\n",
      "Epoch 141: train loss = 0.0002761538 valid loss = 0.0003149292\n",
      "Epoch 142: train loss = 0.0002761229 valid loss = 0.0003149015\n",
      "Epoch 143: train loss = 0.0002761008 valid loss = 0.0003148837\n",
      "Epoch 144: train loss = 0.0002760704 valid loss = 0.0003148557\n",
      "Epoch 145: train loss = 0.0002760238 valid loss = 0.0003148100\n",
      "Epoch 146: train loss = 0.0002759804 valid loss = 0.0003147677\n",
      "Epoch 147: train loss = 0.0002759305 valid loss = 0.0003147173\n",
      "Epoch 148: train loss = 0.0002758844 valid loss = 0.0003146702\n",
      "Epoch 149: train loss = 0.0002758350 valid loss = 0.0003146188\n",
      "Epoch 150: train loss = 0.0002757888 valid loss = 0.0003145707\n",
      "Epoch 151: train loss = 0.0002757428 valid loss = 0.0003145221\n",
      "Epoch 152: train loss = 0.0002757016 valid loss = 0.0003144788\n",
      "Epoch 153: train loss = 0.0002756660 valid loss = 0.0003144428\n",
      "Epoch 154: train loss = 0.0002756118 valid loss = 0.0003143843\n",
      "Epoch 155: train loss = 0.0002755636 valid loss = 0.0003143309\n",
      "Epoch 156: train loss = 0.0002755228 valid loss = 0.0003142844\n",
      "Epoch 157: train loss = 0.0002754882 valid loss = 0.0003142454\n",
      "Epoch 158: train loss = 0.0002754603 valid loss = 0.0003142125\n",
      "Epoch 159: train loss = 0.0002754380 valid loss = 0.0003141837\n",
      "Epoch 160: train loss = 0.0002754217 valid loss = 0.0003141618\n",
      "Epoch 161: train loss = 0.0002754081 valid loss = 0.0003141431\n",
      "Epoch 162: train loss = 0.0002753915 valid loss = 0.0003141241\n",
      "Epoch 163: train loss = 0.0002753716 valid loss = 0.0003141025\n",
      "Epoch 164: train loss = 0.0002753523 valid loss = 0.0003140820\n",
      "Epoch 165: train loss = 0.0002753285 valid loss = 0.0003140591\n",
      "Epoch 166: train loss = 0.0002753047 valid loss = 0.0003140355\n",
      "Epoch 167: train loss = 0.0002752828 valid loss = 0.0003140124\n",
      "Epoch 168: train loss = 0.0002752577 valid loss = 0.0003139869\n",
      "Epoch 169: train loss = 0.0002752326 valid loss = 0.0003139600\n",
      "Epoch 170: train loss = 0.0002752062 valid loss = 0.0003139327\n",
      "Epoch 171: train loss = 0.0002751753 valid loss = 0.0003139030\n",
      "Epoch 172: train loss = 0.0002751405 valid loss = 0.0003138713\n",
      "Epoch 173: train loss = 0.0002751058 valid loss = 0.0003138399\n",
      "Epoch 174: train loss = 0.0002750778 valid loss = 0.0003138123\n",
      "Epoch 175: train loss = 0.0002750503 valid loss = 0.0003137849\n",
      "Epoch 176: train loss = 0.0002750220 valid loss = 0.0003137574\n",
      "Epoch 177: train loss = 0.0002749934 valid loss = 0.0003137296\n",
      "Epoch 178: train loss = 0.0002749649 valid loss = 0.0003137021\n",
      "Epoch 179: train loss = 0.0002749365 valid loss = 0.0003136756\n",
      "Epoch 180: train loss = 0.0002749068 valid loss = 0.0003136494\n",
      "Epoch 181: train loss = 0.0002748783 valid loss = 0.0003136240\n",
      "Epoch 182: train loss = 0.0002748513 valid loss = 0.0003136016\n",
      "Epoch 183: train loss = 0.0002748260 valid loss = 0.0003135820\n",
      "Epoch 184: train loss = 0.0002748049 valid loss = 0.0003135673\n",
      "Epoch 185: train loss = 0.0002747858 valid loss = 0.0003135550\n",
      "Epoch 186: train loss = 0.0002747686 valid loss = 0.0003135436\n",
      "Epoch 187: train loss = 0.0002747539 valid loss = 0.0003135342\n",
      "Epoch 188: train loss = 0.0002747435 valid loss = 0.0003135309\n",
      "Epoch 189: train loss = 0.0002747364 valid loss = 0.0003135314\n",
      "Epoch 190: train loss = 0.0002747315 valid loss = 0.0003135338\n",
      "Epoch 191: train loss = 0.0002747301 valid loss = 0.0003135398\n",
      "Epoch 192: train loss = 0.0002747252 valid loss = 0.0003135403\n",
      "Epoch 193: train loss = 0.0002747212 valid loss = 0.0003135410\n",
      "Epoch 194: train loss = 0.0002747222 valid loss = 0.0003135472\n",
      "Epoch 195: train loss = 0.0002747333 valid loss = 0.0003135647\n",
      "Epoch 196: train loss = 0.0002747497 valid loss = 0.0003135880\n",
      "Epoch 197: train loss = 0.0002747443 valid loss = 0.0003135861\n",
      "Epoch 198: train loss = 0.0002747154 valid loss = 0.0003135569\n",
      "Epoch 199: train loss = 0.0002746737 valid loss = 0.0003135129\n",
      "Epoch 200: train loss = 0.0002746266 valid loss = 0.0003134623\n",
      "Epoch 201: train loss = 0.0002745798 valid loss = 0.0003134119\n",
      "Epoch 202: train loss = 0.0002745262 valid loss = 0.0003133530\n",
      "Epoch 203: train loss = 0.0002744678 valid loss = 0.0003132862\n",
      "Epoch 204: train loss = 0.0002744135 valid loss = 0.0003132220\n",
      "Epoch 205: train loss = 0.0002743620 valid loss = 0.0003131575\n",
      "Epoch 206: train loss = 0.0002743239 valid loss = 0.0003131074\n",
      "Epoch 207: train loss = 0.0002742963 valid loss = 0.0003130695\n",
      "Epoch 208: train loss = 0.0002742759 valid loss = 0.0003130408\n",
      "Epoch 209: train loss = 0.0002742636 valid loss = 0.0003130179\n",
      "Epoch 210: train loss = 0.0002742555 valid loss = 0.0003130017\n",
      "Epoch 211: train loss = 0.0002742535 valid loss = 0.0003129902\n",
      "Epoch 212: train loss = 0.0002742693 valid loss = 0.0003129946\n",
      "Epoch 213: train loss = 0.0002742809 valid loss = 0.0003129985\n",
      "Epoch 214: train loss = 0.0002742915 valid loss = 0.0003130037\n",
      "Epoch 215: train loss = 0.0002742941 valid loss = 0.0003130029\n",
      "Epoch 216: train loss = 0.0002742987 valid loss = 0.0003130034\n",
      "Epoch 217: train loss = 0.0002742892 valid loss = 0.0003129929\n",
      "Epoch 218: train loss = 0.0002742915 valid loss = 0.0003129928\n",
      "Epoch 219: train loss = 0.0002742825 valid loss = 0.0003129828\n",
      "Epoch 220: train loss = 0.0002742535 valid loss = 0.0003129561\n",
      "Epoch 221: train loss = 0.0002742312 valid loss = 0.0003129342\n",
      "Epoch 222: train loss = 0.0002742292 valid loss = 0.0003129290\n",
      "Epoch 223: train loss = 0.0002742185 valid loss = 0.0003129164\n",
      "Epoch 224: train loss = 0.0002741990 valid loss = 0.0003128959\n",
      "Epoch 225: train loss = 0.0002741652 valid loss = 0.0003128631\n",
      "Epoch 226: train loss = 0.0002741260 valid loss = 0.0003128261\n",
      "Epoch 227: train loss = 0.0002741053 valid loss = 0.0003128038\n",
      "Epoch 228: train loss = 0.0002740573 valid loss = 0.0003127586\n",
      "Epoch 229: train loss = 0.0002740078 valid loss = 0.0003127123\n",
      "Epoch 230: train loss = 0.0002739513 valid loss = 0.0003126606\n",
      "Epoch 231: train loss = 0.0002738913 valid loss = 0.0003126063\n",
      "Epoch 232: train loss = 0.0002738318 valid loss = 0.0003125530\n",
      "Epoch 233: train loss = 0.0002737782 valid loss = 0.0003125054\n",
      "Epoch 234: train loss = 0.0002737274 valid loss = 0.0003124610\n",
      "Epoch 235: train loss = 0.0002736855 valid loss = 0.0003124234\n",
      "Epoch 236: train loss = 0.0002736412 valid loss = 0.0003123847\n",
      "Epoch 237: train loss = 0.0002735916 valid loss = 0.0003123426\n",
      "Epoch 238: train loss = 0.0002735525 valid loss = 0.0003123086\n",
      "Epoch 239: train loss = 0.0002735141 valid loss = 0.0003122756\n",
      "Epoch 240: train loss = 0.0002734730 valid loss = 0.0003122432\n",
      "Epoch 241: train loss = 0.0002734360 valid loss = 0.0003122161\n",
      "Epoch 242: train loss = 0.0002734059 valid loss = 0.0003121911\n",
      "Epoch 243: train loss = 0.0002733778 valid loss = 0.0003121661\n",
      "Epoch 244: train loss = 0.0002733517 valid loss = 0.0003121436\n",
      "Epoch 245: train loss = 0.0002733268 valid loss = 0.0003121234\n",
      "Epoch 246: train loss = 0.0002733024 valid loss = 0.0003121024\n",
      "Epoch 247: train loss = 0.0002732808 valid loss = 0.0003120852\n",
      "Epoch 248: train loss = 0.0002732619 valid loss = 0.0003120714\n",
      "Epoch 249: train loss = 0.0002732446 valid loss = 0.0003120586\n",
      "Epoch 250: train loss = 0.0002732315 valid loss = 0.0003120511\n",
      "Epoch 251: train loss = 0.0002732197 valid loss = 0.0003120438\n",
      "Epoch 252: train loss = 0.0002732138 valid loss = 0.0003120438\n",
      "Epoch 253: train loss = 0.0002732094 valid loss = 0.0003120445\n",
      "Epoch 254: train loss = 0.0002732114 valid loss = 0.0003120529\n",
      "Epoch 255: train loss = 0.0002732029 valid loss = 0.0003120466\n",
      "Epoch 256: train loss = 0.0002731926 valid loss = 0.0003120386\n",
      "Epoch 257: train loss = 0.0002731870 valid loss = 0.0003120366\n",
      "Epoch 258: train loss = 0.0002731633 valid loss = 0.0003120115\n",
      "Epoch 259: train loss = 0.0002731311 valid loss = 0.0003119759\n",
      "Epoch 260: train loss = 0.0002730929 valid loss = 0.0003119321\n",
      "Epoch 261: train loss = 0.0002730549 valid loss = 0.0003118874\n",
      "Epoch 262: train loss = 0.0002730253 valid loss = 0.0003118524\n",
      "Epoch 263: train loss = 0.0002729996 valid loss = 0.0003118221\n"
     ]
    },
    {
     "name": "stdout",
     "output_type": "stream",
     "text": [
      "Epoch 264: train loss = 0.0002729759 valid loss = 0.0003117943\n",
      "Epoch 265: train loss = 0.0002729510 valid loss = 0.0003117633\n",
      "Epoch 266: train loss = 0.0002729290 valid loss = 0.0003117365\n",
      "Epoch 267: train loss = 0.0002729087 valid loss = 0.0003117103\n",
      "Epoch 268: train loss = 0.0002728910 valid loss = 0.0003116878\n",
      "Epoch 269: train loss = 0.0002728754 valid loss = 0.0003116661\n",
      "Epoch 270: train loss = 0.0002728616 valid loss = 0.0003116447\n",
      "Epoch 271: train loss = 0.0002728501 valid loss = 0.0003116262\n",
      "Epoch 272: train loss = 0.0002728409 valid loss = 0.0003116112\n",
      "Epoch 273: train loss = 0.0002728297 valid loss = 0.0003115963\n",
      "Epoch 274: train loss = 0.0002728170 valid loss = 0.0003115816\n",
      "Epoch 275: train loss = 0.0002728009 valid loss = 0.0003115655\n",
      "Epoch 276: train loss = 0.0002727825 valid loss = 0.0003115490\n",
      "Epoch 277: train loss = 0.0002727679 valid loss = 0.0003115338\n",
      "Epoch 278: train loss = 0.0002727569 valid loss = 0.0003115196\n",
      "Epoch 279: train loss = 0.0002727455 valid loss = 0.0003115050\n",
      "Epoch 280: train loss = 0.0002727335 valid loss = 0.0003114914\n",
      "Epoch 281: train loss = 0.0002727246 valid loss = 0.0003114789\n",
      "Epoch 282: train loss = 0.0002727111 valid loss = 0.0003114646\n",
      "Epoch 283: train loss = 0.0002726974 valid loss = 0.0003114503\n",
      "Epoch 284: train loss = 0.0002726806 valid loss = 0.0003114340\n",
      "Epoch 285: train loss = 0.0002726637 valid loss = 0.0003114178\n",
      "Epoch 286: train loss = 0.0002726455 valid loss = 0.0003114016\n",
      "Epoch 287: train loss = 0.0002726251 valid loss = 0.0003113865\n",
      "Epoch 288: train loss = 0.0002726069 valid loss = 0.0003113714\n",
      "Epoch 289: train loss = 0.0002725911 valid loss = 0.0003113596\n",
      "Epoch 290: train loss = 0.0002725753 valid loss = 0.0003113464\n",
      "Epoch 291: train loss = 0.0002725601 valid loss = 0.0003113331\n",
      "Epoch 292: train loss = 0.0002725449 valid loss = 0.0003113183\n",
      "Epoch 293: train loss = 0.0002725311 valid loss = 0.0003113061\n",
      "Epoch 294: train loss = 0.0002725180 valid loss = 0.0003112943\n",
      "Epoch 295: train loss = 0.0002725083 valid loss = 0.0003112886\n",
      "Epoch 296: train loss = 0.0002725002 valid loss = 0.0003112850\n",
      "Epoch 297: train loss = 0.0002724932 valid loss = 0.0003112829\n",
      "Epoch 298: train loss = 0.0002724938 valid loss = 0.0003112911\n",
      "Epoch 299: train loss = 0.0002724986 valid loss = 0.0003113045\n",
      "Epoch 300: train loss = 0.0002725117 valid loss = 0.0003113275\n",
      "Epoch 301: train loss = 0.0002725196 valid loss = 0.0003113434\n",
      "Epoch 302: train loss = 0.0002725184 valid loss = 0.0003113470\n",
      "Epoch 303: train loss = 0.0002725069 valid loss = 0.0003113372\n",
      "Epoch 304: train loss = 0.0002724904 valid loss = 0.0003113211\n",
      "Epoch 305: train loss = 0.0002724752 valid loss = 0.0003113068\n",
      "Epoch 306: train loss = 0.0002724599 valid loss = 0.0003112931\n",
      "Epoch 307: train loss = 0.0002724389 valid loss = 0.0003112723\n",
      "Epoch 308: train loss = 0.0002724165 valid loss = 0.0003112496\n",
      "Epoch 309: train loss = 0.0002723980 valid loss = 0.0003112314\n",
      "Epoch 310: train loss = 0.0002723775 valid loss = 0.0003112108\n",
      "Epoch 311: train loss = 0.0002723526 valid loss = 0.0003111843\n",
      "Epoch 312: train loss = 0.0002723262 valid loss = 0.0003111539\n",
      "Epoch 313: train loss = 0.0002722948 valid loss = 0.0003111155\n",
      "Epoch 314: train loss = 0.0002722697 valid loss = 0.0003110837\n",
      "Epoch 315: train loss = 0.0002722475 valid loss = 0.0003110517\n",
      "Epoch 316: train loss = 0.0002722345 valid loss = 0.0003110304\n",
      "Epoch 317: train loss = 0.0002722255 valid loss = 0.0003110163\n",
      "Epoch 318: train loss = 0.0002722161 valid loss = 0.0003110036\n",
      "Epoch 319: train loss = 0.0002722035 valid loss = 0.0003109899\n",
      "Epoch 320: train loss = 0.0002721867 valid loss = 0.0003109757\n",
      "Epoch 321: train loss = 0.0002721678 valid loss = 0.0003109618\n",
      "Epoch 322: train loss = 0.0002721523 valid loss = 0.0003109477\n",
      "Epoch 323: train loss = 0.0002721355 valid loss = 0.0003109343\n",
      "Epoch 324: train loss = 0.0002721201 valid loss = 0.0003109239\n",
      "Epoch 325: train loss = 0.0002721073 valid loss = 0.0003109194\n",
      "Epoch 326: train loss = 0.0002720973 valid loss = 0.0003109140\n",
      "Epoch 327: train loss = 0.0002720892 valid loss = 0.0003109105\n",
      "Epoch 328: train loss = 0.0002720845 valid loss = 0.0003109114\n",
      "Epoch 329: train loss = 0.0002720852 valid loss = 0.0003109192\n",
      "Epoch 330: train loss = 0.0002720883 valid loss = 0.0003109289\n",
      "Epoch 331: train loss = 0.0002720911 valid loss = 0.0003109369\n",
      "Epoch 332: train loss = 0.0002720917 valid loss = 0.0003109411\n",
      "Epoch 333: train loss = 0.0002720772 valid loss = 0.0003109250\n",
      "Epoch 334: train loss = 0.0002720603 valid loss = 0.0003109054\n",
      "Epoch 335: train loss = 0.0002720532 valid loss = 0.0003108987\n",
      "Epoch 336: train loss = 0.0002720508 valid loss = 0.0003108987\n",
      "Epoch 337: train loss = 0.0002720519 valid loss = 0.0003109036\n",
      "Epoch 338: train loss = 0.0002720466 valid loss = 0.0003109003\n",
      "Epoch 339: train loss = 0.0002720459 valid loss = 0.0003109023\n",
      "Epoch 340: train loss = 0.0002720336 valid loss = 0.0003108889\n",
      "Epoch 341: train loss = 0.0002720276 valid loss = 0.0003108830\n",
      "Epoch 342: train loss = 0.0002720129 valid loss = 0.0003108660\n",
      "Epoch 343: train loss = 0.0002719886 valid loss = 0.0003108379\n",
      "Epoch 344: train loss = 0.0002719577 valid loss = 0.0003108014\n",
      "Epoch 345: train loss = 0.0002719327 valid loss = 0.0003107729\n",
      "Epoch 346: train loss = 0.0002719026 valid loss = 0.0003107375\n",
      "Epoch 347: train loss = 0.0002718787 valid loss = 0.0003107097\n",
      "Epoch 348: train loss = 0.0002718528 valid loss = 0.0003106786\n",
      "Epoch 349: train loss = 0.0002718334 valid loss = 0.0003106565\n",
      "Epoch 350: train loss = 0.0002718077 valid loss = 0.0003106267\n",
      "Epoch 351: train loss = 0.0002717909 valid loss = 0.0003106100\n",
      "Epoch 352: train loss = 0.0002717765 valid loss = 0.0003105976\n",
      "Epoch 353: train loss = 0.0002717664 valid loss = 0.0003105915\n",
      "Epoch 354: train loss = 0.0002717586 valid loss = 0.0003105879\n",
      "Epoch 355: train loss = 0.0002717560 valid loss = 0.0003105906\n",
      "Epoch 356: train loss = 0.0002717475 valid loss = 0.0003105848\n",
      "Epoch 357: train loss = 0.0002717465 valid loss = 0.0003105884\n",
      "Epoch 358: train loss = 0.0002717445 valid loss = 0.0003105900\n",
      "Epoch 359: train loss = 0.0002717486 valid loss = 0.0003105983\n",
      "Epoch 360: train loss = 0.0002717568 valid loss = 0.0003106108\n",
      "Epoch 361: train loss = 0.0002717647 valid loss = 0.0003106224\n",
      "Epoch 362: train loss = 0.0002717686 valid loss = 0.0003106287\n",
      "Epoch 363: train loss = 0.0002717759 valid loss = 0.0003106385\n",
      "Epoch 364: train loss = 0.0002717827 valid loss = 0.0003106478\n",
      "Epoch 365: train loss = 0.0002717918 valid loss = 0.0003106600\n",
      "Epoch 366: train loss = 0.0002717893 valid loss = 0.0003106581\n",
      "Epoch 367: train loss = 0.0002717734 valid loss = 0.0003106414\n",
      "Epoch 368: train loss = 0.0002717488 valid loss = 0.0003106149\n",
      "Epoch 369: train loss = 0.0002717340 valid loss = 0.0003105997\n",
      "Epoch 370: train loss = 0.0002717255 valid loss = 0.0003105914\n",
      "Epoch 371: train loss = 0.0002717262 valid loss = 0.0003105939\n",
      "Epoch 372: train loss = 0.0002717112 valid loss = 0.0003105777\n",
      "Epoch 373: train loss = 0.0002717000 valid loss = 0.0003105654\n",
      "Epoch 374: train loss = 0.0002717063 valid loss = 0.0003105733\n",
      "Epoch 375: train loss = 0.0002717312 valid loss = 0.0003106021\n",
      "Epoch 376: train loss = 0.0002717375 valid loss = 0.0003106097\n",
      "Epoch 377: train loss = 0.0002717335 valid loss = 0.0003106063\n",
      "Epoch 378: train loss = 0.0002717388 valid loss = 0.0003106140\n",
      "Epoch 379: train loss = 0.0002717135 valid loss = 0.0003105863\n",
      "Epoch 380: train loss = 0.0002716713 valid loss = 0.0003105394\n",
      "Epoch 381: train loss = 0.0002716351 valid loss = 0.0003104990\n",
      "Epoch 382: train loss = 0.0002715923 valid loss = 0.0003104512\n",
      "Epoch 383: train loss = 0.0002715420 valid loss = 0.0003103938\n",
      "Epoch 384: train loss = 0.0002714852 valid loss = 0.0003103295\n",
      "Epoch 385: train loss = 0.0002714406 valid loss = 0.0003102788\n",
      "Epoch 386: train loss = 0.0002713826 valid loss = 0.0003102109\n",
      "Epoch 387: train loss = 0.0002713411 valid loss = 0.0003101617\n",
      "Epoch 388: train loss = 0.0002713071 valid loss = 0.0003101214\n",
      "Epoch 389: train loss = 0.0002712754 valid loss = 0.0003100826\n",
      "Epoch 390: train loss = 0.0002712464 valid loss = 0.0003100459\n",
      "Epoch 391: train loss = 0.0002712264 valid loss = 0.0003100208\n",
      "Epoch 392: train loss = 0.0002712046 valid loss = 0.0003099890\n",
      "Epoch 393: train loss = 0.0002711917 valid loss = 0.0003099648\n",
      "Epoch 394: train loss = 0.0002711855 valid loss = 0.0003099508\n"
     ]
    },
    {
     "name": "stdout",
     "output_type": "stream",
     "text": [
      "Epoch 395: train loss = 0.0002711793 valid loss = 0.0003099399\n",
      "Epoch 396: train loss = 0.0002711730 valid loss = 0.0003099297\n",
      "Epoch 397: train loss = 0.0002711694 valid loss = 0.0003099215\n",
      "Epoch 398: train loss = 0.0002711622 valid loss = 0.0003099115\n",
      "Epoch 399: train loss = 0.0002711469 valid loss = 0.0003098970\n",
      "Epoch 400: train loss = 0.0002711323 valid loss = 0.0003098826\n",
      "Epoch 401: train loss = 0.0002711194 valid loss = 0.0003098689\n",
      "Epoch 402: train loss = 0.0002711117 valid loss = 0.0003098582\n",
      "Epoch 403: train loss = 0.0002710988 valid loss = 0.0003098434\n",
      "Epoch 404: train loss = 0.0002710824 valid loss = 0.0003098263\n",
      "Epoch 405: train loss = 0.0002710636 valid loss = 0.0003098081\n",
      "Epoch 406: train loss = 0.0002710448 valid loss = 0.0003097914\n",
      "Epoch 407: train loss = 0.0002710183 valid loss = 0.0003097707\n",
      "Epoch 408: train loss = 0.0002710375 valid loss = 0.0003097781\n",
      "Epoch 409: train loss = 0.0002710527 valid loss = 0.0003097846\n",
      "Epoch 410: train loss = 0.0002710591 valid loss = 0.0003097854\n",
      "Epoch 411: train loss = 0.0002710653 valid loss = 0.0003097863\n",
      "Epoch 412: train loss = 0.0002710601 valid loss = 0.0003097788\n",
      "Epoch 413: train loss = 0.0002710536 valid loss = 0.0003097702\n",
      "Epoch 414: train loss = 0.0002710569 valid loss = 0.0003097686\n",
      "Epoch 415: train loss = 0.0002710480 valid loss = 0.0003097583\n",
      "Epoch 416: train loss = 0.0002710326 valid loss = 0.0003097436\n",
      "Epoch 417: train loss = 0.0002710113 valid loss = 0.0003097253\n",
      "Epoch 418: train loss = 0.0002709924 valid loss = 0.0003097091\n",
      "Epoch 419: train loss = 0.0002709810 valid loss = 0.0003096968\n",
      "Epoch 420: train loss = 0.0002709633 valid loss = 0.0003096810\n",
      "Epoch 421: train loss = 0.0002709473 valid loss = 0.0003096674\n",
      "Epoch 422: train loss = 0.0002709303 valid loss = 0.0003096547\n",
      "Epoch 423: train loss = 0.0002709172 valid loss = 0.0003096436\n",
      "Epoch 424: train loss = 0.0002709069 valid loss = 0.0003096324\n",
      "Epoch 425: train loss = 0.0002708991 valid loss = 0.0003096221\n",
      "Epoch 426: train loss = 0.0002708884 valid loss = 0.0003096110\n",
      "Epoch 427: train loss = 0.0002708767 valid loss = 0.0003095993\n",
      "Epoch 428: train loss = 0.0002708667 valid loss = 0.0003095884\n",
      "Epoch 429: train loss = 0.0002708526 valid loss = 0.0003095772\n",
      "Epoch 430: train loss = 0.0002708376 valid loss = 0.0003095660\n",
      "Epoch 431: train loss = 0.0002708213 valid loss = 0.0003095559\n",
      "Epoch 432: train loss = 0.0002708081 valid loss = 0.0003095492\n",
      "Epoch 433: train loss = 0.0002707961 valid loss = 0.0003095408\n",
      "Epoch 434: train loss = 0.0002707856 valid loss = 0.0003095342\n",
      "Epoch 435: train loss = 0.0002707769 valid loss = 0.0003095291\n",
      "Epoch 436: train loss = 0.0002707667 valid loss = 0.0003095208\n",
      "Epoch 437: train loss = 0.0002707592 valid loss = 0.0003095179\n",
      "Epoch 438: train loss = 0.0002707520 valid loss = 0.0003095147\n",
      "Epoch 439: train loss = 0.0002707477 valid loss = 0.0003095154\n",
      "Epoch 440: train loss = 0.0002707400 valid loss = 0.0003095108\n",
      "Epoch 441: train loss = 0.0002707444 valid loss = 0.0003095229\n",
      "Epoch 442: train loss = 0.0002707455 valid loss = 0.0003095293\n",
      "Epoch 443: train loss = 0.0002707366 valid loss = 0.0003095218\n",
      "Epoch 444: train loss = 0.0002707313 valid loss = 0.0003095185\n",
      "Epoch 445: train loss = 0.0002707085 valid loss = 0.0003094928\n",
      "Epoch 446: train loss = 0.0002706864 valid loss = 0.0003094667\n",
      "Epoch 447: train loss = 0.0002706718 valid loss = 0.0003094510\n",
      "Epoch 448: train loss = 0.0002706419 valid loss = 0.0003094123\n",
      "Epoch 449: train loss = 0.0002706178 valid loss = 0.0003093800\n",
      "Epoch 450: train loss = 0.0002706017 valid loss = 0.0003093580\n",
      "Epoch 451: train loss = 0.0002705892 valid loss = 0.0003093399\n",
      "Epoch 452: train loss = 0.0002705808 valid loss = 0.0003093255\n",
      "Epoch 453: train loss = 0.0002705717 valid loss = 0.0003093156\n",
      "Epoch 454: train loss = 0.0002705627 valid loss = 0.0003093069\n",
      "Epoch 455: train loss = 0.0002705522 valid loss = 0.0003092984\n",
      "Epoch 456: train loss = 0.0002705439 valid loss = 0.0003092922\n",
      "Epoch 457: train loss = 0.0002705351 valid loss = 0.0003092871\n",
      "Epoch 458: train loss = 0.0002705262 valid loss = 0.0003092826\n",
      "Epoch 459: train loss = 0.0002705193 valid loss = 0.0003092833\n",
      "Epoch 460: train loss = 0.0002705105 valid loss = 0.0003092767\n",
      "Epoch 461: train loss = 0.0002705041 valid loss = 0.0003092751\n",
      "Epoch 462: train loss = 0.0002705008 valid loss = 0.0003092766\n",
      "Epoch 463: train loss = 0.0002704975 valid loss = 0.0003092771\n",
      "Epoch 464: train loss = 0.0002705012 valid loss = 0.0003092868\n",
      "Epoch 465: train loss = 0.0002705103 valid loss = 0.0003093026\n",
      "Epoch 466: train loss = 0.0002705186 valid loss = 0.0003093159\n",
      "Epoch 467: train loss = 0.0002705028 valid loss = 0.0003092964\n",
      "Epoch 468: train loss = 0.0002704861 valid loss = 0.0003092747\n",
      "Epoch 469: train loss = 0.0002704761 valid loss = 0.0003092621\n",
      "Epoch 470: train loss = 0.0002704732 valid loss = 0.0003092588\n",
      "Epoch 471: train loss = 0.0002704629 valid loss = 0.0003092461\n",
      "Epoch 472: train loss = 0.0002704475 valid loss = 0.0003092260\n",
      "Epoch 473: train loss = 0.0002704249 valid loss = 0.0003091951\n",
      "Epoch 474: train loss = 0.0002704079 valid loss = 0.0003091715\n",
      "Epoch 475: train loss = 0.0002703879 valid loss = 0.0003091408\n",
      "Epoch 476: train loss = 0.0002703752 valid loss = 0.0003091221\n",
      "Epoch 477: train loss = 0.0002703649 valid loss = 0.0003091058\n",
      "Epoch 478: train loss = 0.0002703565 valid loss = 0.0003090892\n",
      "Epoch 479: train loss = 0.0002703506 valid loss = 0.0003090750\n",
      "Epoch 480: train loss = 0.0002703425 valid loss = 0.0003090630\n",
      "Epoch 481: train loss = 0.0002703316 valid loss = 0.0003090508\n",
      "Epoch 482: train loss = 0.0002703222 valid loss = 0.0003090401\n",
      "Epoch 483: train loss = 0.0002703133 valid loss = 0.0003090300\n",
      "Epoch 484: train loss = 0.0002703081 valid loss = 0.0003090199\n",
      "Epoch 485: train loss = 0.0002703056 valid loss = 0.0003090117\n",
      "Epoch 486: train loss = 0.0002702994 valid loss = 0.0003090021\n",
      "Epoch 487: train loss = 0.0002702882 valid loss = 0.0003089902\n",
      "Epoch 488: train loss = 0.0002702786 valid loss = 0.0003089797\n",
      "Epoch 489: train loss = 0.0002702640 valid loss = 0.0003089669\n",
      "Epoch 490: train loss = 0.0002702473 valid loss = 0.0003089530\n",
      "Epoch 491: train loss = 0.0002702344 valid loss = 0.0003089406\n",
      "Epoch 492: train loss = 0.0002702235 valid loss = 0.0003089284\n",
      "Epoch 493: train loss = 0.0002702111 valid loss = 0.0003089182\n",
      "Epoch 494: train loss = 0.0002702007 valid loss = 0.0003089090\n",
      "Epoch 495: train loss = 0.0002701914 valid loss = 0.0003088997\n",
      "Epoch 496: train loss = 0.0002701834 valid loss = 0.0003088945\n",
      "Epoch 497: train loss = 0.0002701775 valid loss = 0.0003088933\n",
      "Epoch 498: train loss = 0.0002701715 valid loss = 0.0003088893\n",
      "Epoch 499: train loss = 0.0002701645 valid loss = 0.0003088845\n",
      "Epoch 500: train loss = 0.0002701556 valid loss = 0.0003088761\n"
     ]
    }
   ],
   "source": [
    "training_loss_list = []\n",
    "valid_loss_list = []\n",
    "\n",
    "with tf.Session() as sess:\n",
    "    sess.run(tf.global_variables_initializer())\n",
    "  \n",
    "    for iteration in range(n_epochs):\n",
    "        x_batch, y_batch = get_next_batch(batch_size)\n",
    "        sess.run(optimizer, feed_dict={input_X: x_batch, input_y:y_batch})\n",
    "        \n",
    "        train_loss = loss.eval(feed_dict={input_X: X_train, input_y: y_train})\n",
    "        valid_loss = loss.eval(feed_dict={input_X: X_val, input_y: y_val})\n",
    "        \n",
    "        training_loss_list.append(train_loss)\n",
    "        valid_loss_list.append(valid_loss)\n",
    "        \n",
    "        print('Epoch {0}: train loss = {1:.10f} valid loss = {2:.10f}'.format(iteration + 1, train_loss, valid_loss))\n",
    "\n",
    "    y_test_pred = sess.run(outputs, feed_dict={input_X: X_test})"
   ]
  },
  {
   "cell_type": "markdown",
   "metadata": {
    "colab_type": "text",
    "id": "8ldK-ijMgB87"
   },
   "source": [
    "with our model trained its time to plot the loss for each epoch"
   ]
  },
  {
   "cell_type": "code",
   "execution_count": 111,
   "metadata": {
    "colab": {
     "base_uri": "https://localhost:8080/",
     "height": 283
    },
    "colab_type": "code",
    "id": "t7lwXj5HgB89",
    "outputId": "bac330a6-1b2d-4ff7-b967-72816368d2c9",
    "scrolled": false
   },
   "outputs": [
    {
     "data": {
      "image/png": "[encoded data removed]",
      "text/plain": [
       "<Figure size 864x288 with 2 Axes>"
      ]
     },
     "metadata": {
      "needs_background": "light"
     },
     "output_type": "display_data"
    }
   ],
   "source": [
    "plt.figure(figsize=(12,4))\n",
    "plt.subplot(1,2,1)\n",
    "plt.plot(training_loss_list, color='blue', label='train loss')\n",
    "plt.plot(valid_loss_list, color='red', label='validation loss')\n",
    "plt.ylabel('Loss')\n",
    "plt.xlabel('Epochs')\n",
    "plt.legend()\n",
    "plt.subplot(1,2,2)\n",
    "plt.plot(y_test_pred[0:100, -1], color='blue', label='Predicted') #its much data will printing just 100 entries\n",
    "plt.plot(y_test[0:100, -1], color='red', label='True')\n",
    "plt.ylabel('WITHDRAW AMT')\n",
    "plt.xlabel('Entries')\n",
    "plt.legend()\n",
    "plt.show()"
   ]
  },
  {
   "cell_type": "markdown",
   "metadata": {
    "colab_type": "text",
    "id": "BWFWRDBvgB9C"
   },
   "source": [
    "like you can see our loss is decreasing over time it is good notices for us"
   ]
  },
  {
   "cell_type": "markdown",
   "metadata": {
    "colab_type": "text",
    "id": "vVor4r3fzF4Y"
   },
   "source": [
    "the predictions has been done too, so the next step is mount our data again\n",
    "to visualize our result and answer the questions"
   ]
  },
  {
   "cell_type": "code",
   "execution_count": 112,
   "metadata": {
    "colab": {},
    "colab_type": "code",
    "id": "B6KEz2KLgB9I"
   },
   "outputs": [],
   "source": [
    "X_test = X_test.reshape(-1, 5)\n",
    "results = pd.DataFrame({'Date': X_test[:, 0],\n",
    "                        'VALUE DATE': X_test[:, 1],\n",
    "                        'DEPOSIT AMT': X_test[:, 2],\n",
    "                        'BALANCE AMT': X_test[:, 3],\n",
    "                        'client_class': X_test[:, 4],\n",
    "                        'WITHDRAWAL AMT': y_test_pred.reshape(-1,)\n",
    "                       })\n",
    "\n",
    "most_withdrawal_accounts_value = results.sort_values(by='WITHDRAWAL AMT', ascending=False).iloc[0:9]"
   ]
  },
  {
   "cell_type": "markdown",
   "metadata": {
    "colab_type": "text",
    "id": "Lee1783jgB9N"
   },
   "source": [
    "like previosly above, we transform all `Account No` in a interger value and store it in a column called `client_class` we see that the most evaluated client or with most potential client is the client with `client_class` column with value 0 but why that client is considered with most potential?\n",
    "\n",
    "we presume that column `WITHDRAWAL AMT` its not so about a CASH WITHDRAWAL, like column `TRANSACTION DETAILS` show to us, the dataset have a resume about all transfers in the bank this means all payment, deposit etc... in resume: the client with label 0 is taking money from your account and investing in another account he is our 'BIG FISH' but, what account is the column `client_class` with value 0? its we find in follow."
   ]
  },
  {
   "cell_type": "code",
   "execution_count": 113,
   "metadata": {
    "colab": {
     "base_uri": "https://localhost:8080/",
     "height": 34
    },
    "colab_type": "code",
    "id": "QiAe8mHDgB9P",
    "outputId": "e9092c3e-4f5e-4d2f-90f1-21af36db9cfa"
   },
   "outputs": [
    {
     "name": "stdout",
     "output_type": "stream",
     "text": [
      "409000493201'\n"
     ]
    }
   ],
   "source": [
    "client_class = most_withdrawal_accounts_value.iloc[0]['client_class'] ## GET CLASS OF OUR BIG FISH\n",
    "\n",
    "for idx in range(len(accounts_label)):\n",
    "    if(idx == client_class):\n",
    "        print(accounts_label[idx])"
   ]
  },
  {
   "cell_type": "markdown",
   "metadata": {
    "colab_type": "text",
    "id": "32cjcVh3gB9U"
   },
   "source": [
    "Our BIG FISH is the client with `Account No` = `409000611074'`. \n",
    "its time to approve to her a new line of credit and give a limitless platinum card. \\o/ "
   ]
  },
  {
   "cell_type": "markdown",
   "metadata": {
    "colab_type": "text",
    "id": "HmAbV4wzgB9V"
   },
   "source": [
    "### THANKS ###"
   ]
  }
 ],
 "metadata": {
  "colab": {
   "collapsed_sections": [],
   "include_colab_link": true,
   "name": "lstm_gru_with_tensorflow_eduardo_asafe.ipynb",
   "provenance": [],
   "toc_visible": true,
   "version": "0.3.2"
  },
  "kernelspec": {
   "display_name": "Python 2",
   "language": "python",
   "name": "python2"
  },
  "language_info": {
   "codemirror_mode": {
    "name": "ipython",
    "version": 2
   },
   "file_extension": ".py",
   "mimetype": "text/x-python",
   "name": "python",
   "nbconvert_exporter": "python",
   "pygments_lexer": "ipython2",
   "version": "2.7.15"
  }
 },
 "nbformat": 4,
 "nbformat_minor": 1
}
